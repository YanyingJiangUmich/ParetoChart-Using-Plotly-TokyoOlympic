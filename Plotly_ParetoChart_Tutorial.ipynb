{
 "cells": [
  {
   "cell_type": "markdown",
   "id": "5d0972ab-bd90-49b8-b364-1a8f1d17df85",
   "metadata": {},
   "source": [
    "# Tutorial of Creating Pareto Chart Using Plotly "
   ]
  },
  {
   "cell_type": "markdown",
   "id": "fc13ea1c",
   "metadata": {},
   "source": [
    "## What is Pareto Chart?"
   ]
  },
  {
   "cell_type": "markdown",
   "id": "66f84dd1-0799-46e4-8db7-f0c18714f8d9",
   "metadata": {},
   "source": [
    "The Pareto chart is a visual representation of the 80-20 rule by combining a bar + line chart. The 80-20 rule, also know as the Pareto Principle, is a widely seen phenomenon that people sometimes don't realize its existense.  It's named after Villefredo Pareto who found that approximately 80 percent of all wealth of Italian cities he researched was held by only 20 percent of the families. According to Wikipedia, the Pareto principle states that for many outcomes, roughly 80% of consequences come from 20% of causes (Wikepedia, \"Pareto principle\", 2022).\n",
    "\n",
    "The Pareto Chart visualizes the Pareto Principle by displaying the ordered frequencies of categories (Count) along with the cumulative frequencies of categories (Cumulative Percentage). The lengths of the bars represent frequency, and are arranged with longest bars on the left and the shortest to the right, showing which situations are more significant. The line chart represents the cumulative frequencies of the values. A third line can be added to the graph as the \"80%\" line to help you quickly identify where the 80% locates.  \n",
    "\n",
    "It's also necessary to note that in the Pareto principle, the inputs and outputs do not have to add up to 100%. The relationship could as well be 80/40, 60/20, 90/30, or 100/10. The 80/20 distribution is just the most common one (Gulbis, 2016)."
   ]
  },
  {
   "cell_type": "markdown",
   "id": "df4e2256-f79c-48b0-9280-b524adef51b5",
   "metadata": {},
   "source": [
    "Pareto chart is a great tool for decision-making. It can come in handy in the following circumstances:\n",
    "\n",
    "1. You have a list of rootcauses to a problem, and you want to determine where you should spend the most resources on. For example: Which software bugs cause the most crashes?\n",
    "2. You want to organize and sort the data by the categories' priorities\n",
    "3. You want to explore if the dataset follows the 80-20 rule \n",
    "4. You want to analyze data in business that you can count or measure: like Which customers attribute to most of your income or profit? Which products are the most popular and why? Which employees attribute to most company sales? (Gulbis, 2016) \n",
    "\n",
    "Pareto chart is commonly used in quality control analysis, to illustrate major of defect or problem in descending order of their frequency (number of times of occurrence) and their cumulative impact. It provides a better explanation regarding defects that are needed to be resolved first. One can also decide and plan about correct and important measures or actions that are needed to be taken regarding defect (GeeksforGeeks, 2020).\n",
    "\n",
    "This visualization technique also has some cons: \n",
    "\n",
    "1. It does not represent severity of defect or any problem since it only shows the frequencies. People may tend to ignore the problems that have lower frequencies while there is a chance these problem may cause larger losses. In other words, the pareto analysis makes people focus on the most significant ones and ignore the less significant one, leading to unfairness.\n",
    "\n",
    "2. Parelo chart has limited use cases. When the dataset doesn't follow the 80-20 rule closely, it may not be very helpful for decision-making. Additional tools need to be explored.  \n",
    "\n",
    "3. Pareto charts can only show qualitative data that can be observed. It merely shows the frequency of an attribute or measurement. One disadvantage of generating Pareto charts is that they cannot be used to calculate the average of the data, its variability or changes in the measured attribute over time (Wilhite, 2021).\n",
    "\n",
    "\n"
   ]
  },
  {
   "cell_type": "markdown",
   "id": "66ac553e-8586-4be0-9d4e-35c1d65362a6",
   "metadata": {},
   "source": [
    "## Visualization using Plotly"
   ]
  },
  {
   "cell_type": "markdown",
   "id": "16b1d497-0694-482c-a89d-9e08903b4b3d",
   "metadata": {},
   "source": [
    "Plotly is an OPEN SOURCE visualization toolkit licensed under the MIT license. It doesn't require any account registration and it's free for individual users. It also can work offline. You can view the source, report issues or contribute using Github.\n",
    "\n",
    "Plotly is much more interactive & visually flexible than Matplotlib or Seaborn. It works well with my dataset (a csv file) via pandas and it's easy to do a Pareto Chart to visualize my dataset. The interactivity feature makes a pareto chart more readable especially when your data have many rows(categories). The dataset I will use in my demonstration \"2021 Tokyo Olympics Medals Count\" contains 93 countries, so the interactivity feature is vital. You can hover over each measure to see it's count. \n",
    "\n"
   ]
  },
  {
   "cell_type": "markdown",
   "id": "2bb4bcec-2e1f-496f-9815-58eec5fd5df8",
   "metadata": {},
   "source": [
    "#### Installation\n",
    "\n",
    "We can execute the below code to install the package and necessary extensions for Jupyter Lab. Just copy and paste them into a cell, then run the cell. "
   ]
  },
  {
   "cell_type": "markdown",
   "id": "87210393-99f9-4aef-b0e1-add4a2f4d83d",
   "metadata": {},
   "source": [
    "`!pip install plotly`\n",
    "\n",
    "`!jupyter labextension install jupyterlab-plotly`\n",
    "\n",
    "`!pip install \"jupyterlab>=3\" \"ipywidgets>=7.6\"`\n"
   ]
  },
  {
   "cell_type": "markdown",
   "id": "e2d99140-3424-414c-9854-bd26c3662009",
   "metadata": {},
   "source": [
    "Plotly is declarative. You don't necessarily need to write down step by step to make an interactive visualization. It's pretty automatic. \n",
    "\n",
    "Plotly can integrate with Jupyter easily by installing the extensions mentioned above. \n",
    "\n",
    "I choose Plotly to do Pareto Chart because of the following reasons:\n",
    "1. Interactive and ready-to-present quality graphs can be made with simple code. It requires less lines of code than Matplotlib to do the same graph. \n",
    "2. Clear documentation to help you identify which graph fits your data. I found the documentation easier to understand than Matplotlib.\n",
    "3. Beautiful gallaries on their website showing how to make bar charts, line charts and how to change formatting to make a pareto chart\n",
    "4. There is a community called Chart Studio, where you can search publich charts generated by users. I found a good example of a Pareto chart there to learn to do the visualization. https://chart-studio.plotly.com/~timopyr/11/diagram-pareto/#/code\n",
    "\n",
    "If you are interested, I recommend this article on 'towardsdatascience.com' which compares Matplotlib vs Plotly by demonstrating some basic charts. \n",
    "https://towardsdatascience.com/matplotlib-vs-plotly-express-which-one-is-the-best-library-for-data-visualization-7a96dbe3ff09\n",
    "\n",
    "Limitations of Plotly:\n",
    "The documentation can be out of date. There is a large range of Plotly tools (Chart\n",
    "Studio, Express, etc.) that can be confusing and hard to keep up with. It's less popular than Matplotlib so you won't find as many resources online for Plotly.\n",
    "\n",
    "\n"
   ]
  },
  {
   "cell_type": "markdown",
   "id": "fbe13d13-71c0-4c8d-85d9-a0425f682750",
   "metadata": {},
   "source": [
    "### Step by Step Tutorial\n"
   ]
  },
  {
   "cell_type": "markdown",
   "id": "e7cbd37d-a86e-4ba3-b558-bafcc26cd873",
   "metadata": {},
   "source": [
    "The dataset I picked is the \"Tokyo 2020 Olympic Medal Count(2021)\" dataset downloaded from Kaggle (ALAN, 2021). \n",
    "\n",
    "Data Source : https://www.kaggle.com/datasets/berkayalan/2021-olympics-medals-in-tokyo\n",
    "\n",
    "The 2020 Summer Olympics , officially the Games of the XXXII Olympiad and branded as Tokyo 2020, is an ongoing international multi-sport event being held from 23 July to 8 August 2021 in Tokyo, Japan.\n",
    "\n",
    "From the top of my head I believe that the count of Olympic Medals by country follows the 80-20 rule approximately. I wanted to verify it through a Pareto Chart. So I picked this dataset. \n",
    "\n",
    "Firstly let's import the libraries:\n",
    "\n"
   ]
  },
  {
   "cell_type": "code",
   "execution_count": 1,
   "id": "3387f365-208c-4e08-b369-db1dc0e0de99",
   "metadata": {},
   "outputs": [],
   "source": [
    "import pandas as pd\n",
    "import plotly.graph_objects as go\n",
    "import plotly as py\n",
    "import plotly.io as pio\n",
    "pio.renderers.default = 'iframe'\n",
    "\n",
    "# import warnings\n",
    "# warnings.filterwarnings('ignore')"
   ]
  },
  {
   "cell_type": "markdown",
   "id": "56b5d8aa-7a33-4bf3-aa47-62e6c15f46dc",
   "metadata": {},
   "source": [
    "And then we use pandas to read the csv file. I would firstly sort the DataFrame by Gold Medal count descending. And then add a column to calculate cumulative percentage. I will also add a column with value '80' to be used to demonstrate where 80% is. \n",
    "\n",
    "\n",
    "(Note that some countries have the same count of gold medals, I used \"Rank by total\" as the second criteria to sort)"
   ]
  },
  {
   "cell_type": "code",
   "execution_count": 12,
   "id": "b235bd97-5be0-4a1d-9665-12fcf9d413e1",
   "metadata": {},
   "outputs": [
    {
     "name": "stdout",
     "output_type": "stream",
     "text": [
      "93\n"
     ]
    },
    {
     "data": {
      "text/html": [
       "<div>\n",
       "<style scoped>\n",
       "    .dataframe tbody tr th:only-of-type {\n",
       "        vertical-align: middle;\n",
       "    }\n",
       "\n",
       "    .dataframe tbody tr th {\n",
       "        vertical-align: top;\n",
       "    }\n",
       "\n",
       "    .dataframe thead th {\n",
       "        text-align: right;\n",
       "    }\n",
       "</style>\n",
       "<table border=\"1\" class=\"dataframe\">\n",
       "  <thead>\n",
       "    <tr style=\"text-align: right;\">\n",
       "      <th></th>\n",
       "      <th>Country</th>\n",
       "      <th>Gold Medal</th>\n",
       "      <th>Silver Medal</th>\n",
       "      <th>Bronze Medal</th>\n",
       "      <th>Total</th>\n",
       "      <th>Rank By Total</th>\n",
       "      <th>cumulative_perc_gold</th>\n",
       "      <th>eighty</th>\n",
       "    </tr>\n",
       "  </thead>\n",
       "  <tbody>\n",
       "    <tr>\n",
       "      <th>0</th>\n",
       "      <td>United States of America</td>\n",
       "      <td>39</td>\n",
       "      <td>41</td>\n",
       "      <td>33</td>\n",
       "      <td>113</td>\n",
       "      <td>1</td>\n",
       "      <td>11.47</td>\n",
       "      <td>80</td>\n",
       "    </tr>\n",
       "    <tr>\n",
       "      <th>1</th>\n",
       "      <td>People's Republic of China</td>\n",
       "      <td>38</td>\n",
       "      <td>32</td>\n",
       "      <td>18</td>\n",
       "      <td>88</td>\n",
       "      <td>2</td>\n",
       "      <td>22.65</td>\n",
       "      <td>80</td>\n",
       "    </tr>\n",
       "    <tr>\n",
       "      <th>2</th>\n",
       "      <td>Japan</td>\n",
       "      <td>27</td>\n",
       "      <td>14</td>\n",
       "      <td>17</td>\n",
       "      <td>58</td>\n",
       "      <td>5</td>\n",
       "      <td>30.59</td>\n",
       "      <td>80</td>\n",
       "    </tr>\n",
       "    <tr>\n",
       "      <th>3</th>\n",
       "      <td>Great Britain</td>\n",
       "      <td>22</td>\n",
       "      <td>21</td>\n",
       "      <td>22</td>\n",
       "      <td>65</td>\n",
       "      <td>4</td>\n",
       "      <td>37.06</td>\n",
       "      <td>80</td>\n",
       "    </tr>\n",
       "    <tr>\n",
       "      <th>4</th>\n",
       "      <td>ROC</td>\n",
       "      <td>20</td>\n",
       "      <td>28</td>\n",
       "      <td>23</td>\n",
       "      <td>71</td>\n",
       "      <td>3</td>\n",
       "      <td>42.94</td>\n",
       "      <td>80</td>\n",
       "    </tr>\n",
       "    <tr>\n",
       "      <th>5</th>\n",
       "      <td>Australia</td>\n",
       "      <td>17</td>\n",
       "      <td>7</td>\n",
       "      <td>22</td>\n",
       "      <td>46</td>\n",
       "      <td>6</td>\n",
       "      <td>47.94</td>\n",
       "      <td>80</td>\n",
       "    </tr>\n",
       "    <tr>\n",
       "      <th>7</th>\n",
       "      <td>France</td>\n",
       "      <td>10</td>\n",
       "      <td>12</td>\n",
       "      <td>11</td>\n",
       "      <td>33</td>\n",
       "      <td>10</td>\n",
       "      <td>50.88</td>\n",
       "      <td>80</td>\n",
       "    </tr>\n",
       "    <tr>\n",
       "      <th>6</th>\n",
       "      <td>Netherlands</td>\n",
       "      <td>10</td>\n",
       "      <td>12</td>\n",
       "      <td>14</td>\n",
       "      <td>36</td>\n",
       "      <td>9</td>\n",
       "      <td>53.82</td>\n",
       "      <td>80</td>\n",
       "    </tr>\n",
       "    <tr>\n",
       "      <th>8</th>\n",
       "      <td>Germany</td>\n",
       "      <td>10</td>\n",
       "      <td>11</td>\n",
       "      <td>16</td>\n",
       "      <td>37</td>\n",
       "      <td>8</td>\n",
       "      <td>56.76</td>\n",
       "      <td>80</td>\n",
       "    </tr>\n",
       "    <tr>\n",
       "      <th>9</th>\n",
       "      <td>Italy</td>\n",
       "      <td>10</td>\n",
       "      <td>10</td>\n",
       "      <td>20</td>\n",
       "      <td>40</td>\n",
       "      <td>7</td>\n",
       "      <td>59.71</td>\n",
       "      <td>80</td>\n",
       "    </tr>\n",
       "  </tbody>\n",
       "</table>\n",
       "</div>"
      ],
      "text/plain": [
       "                      Country  Gold Medal  Silver Medal  Bronze Medal  Total  \\\n",
       "0    United States of America          39            41            33    113   \n",
       "1  People's Republic of China          38            32            18     88   \n",
       "2                       Japan          27            14            17     58   \n",
       "3               Great Britain          22            21            22     65   \n",
       "4                         ROC          20            28            23     71   \n",
       "5                   Australia          17             7            22     46   \n",
       "7                      France          10            12            11     33   \n",
       "6                 Netherlands          10            12            14     36   \n",
       "8                     Germany          10            11            16     37   \n",
       "9                       Italy          10            10            20     40   \n",
       "\n",
       "   Rank By Total  cumulative_perc_gold  eighty  \n",
       "0              1                 11.47      80  \n",
       "1              2                 22.65      80  \n",
       "2              5                 30.59      80  \n",
       "3              4                 37.06      80  \n",
       "4              3                 42.94      80  \n",
       "5              6                 47.94      80  \n",
       "7             10                 50.88      80  \n",
       "6              9                 53.82      80  \n",
       "8              8                 56.76      80  \n",
       "9              7                 59.71      80  "
      ]
     },
     "execution_count": 12,
     "metadata": {},
     "output_type": "execute_result"
    }
   ],
   "source": [
    "#import the 2021 Tokyo Medals dataset from csv file and create a DataFrame\n",
    "df = pd.read_csv('./TokyoMedals2021.csv')\n",
    "\n",
    "#sort DataFrame by Gold Medal count descending\n",
    "df = df.sort_values(by=['Gold Medal','Rank By Total'], ascending=[False, False])\n",
    "\n",
    "#add a column to calculate cumulative percentage\n",
    "df['cumulative_perc_gold'] = round(df['Gold Medal'].cumsum()/df['Gold Medal'].sum()*100,2)\n",
    "\n",
    "#add a column for 80\n",
    "df['eighty'] = 80\n",
    "\n",
    "#Now let's take a look at the dataframe\n",
    "print(len(df))\n",
    "df.head(10)\n"
   ]
  },
  {
   "cell_type": "markdown",
   "id": "574f07c3-1807-4cbd-8af6-0e1ec859c293",
   "metadata": {},
   "source": [
    "Based on the dataframe we just created, we will create the first graph (Graph 1) by specifying the x and y axes. Now we have a basic bar chart showing the count of Gold Medals by Country descending. If you mouse over the bars, you can already see the interactive feature, showing the count for each country! Great! Now we can see how easy it is to use Plotly to create interactive charts!\n",
    "\n",
    "#### First let's make a basic bar chart with gold medal counts"
   ]
  },
  {
   "cell_type": "code",
   "execution_count": 13,
   "id": "e14de665-4fc8-4360-b1f8-1055a263860f",
   "metadata": {},
   "outputs": [
    {
     "data": {
      "text/html": [
       "<iframe\n",
       "    scrolling=\"no\"\n",
       "    width=\"1020px\"\n",
       "    height=\"545px\"\n",
       "    src=\"iframe_figures/figure_13.html\"\n",
       "    frameborder=\"0\"\n",
       "    allowfullscreen\n",
       "></iframe>\n"
      ]
     },
     "metadata": {},
     "output_type": "display_data"
    }
   ],
   "source": [
    "trace1 = go.Bar(\n",
    "    x=df['Country'],\n",
    "    y=df['Gold Medal']   \n",
    ")\n",
    "fig = go.Figure(data = trace1)\n",
    "fig.update_layout(width = 1000,margin=dict(l=0, r=100, t=50, b=50))\n",
    "fig.show()"
   ]
  },
  {
   "cell_type": "markdown",
   "id": "894f2c6d-e9ba-40e5-93c6-22586e927165",
   "metadata": {},
   "source": [
    "#### Let's add some formatting to make it prettier \n",
    "This adds a title, and appropriate x-axis label font size to show all the country names:"
   ]
  },
  {
   "cell_type": "code",
   "execution_count": 14,
   "id": "9af5754a-2aa8-47a2-88d5-df0ecd9974f4",
   "metadata": {},
   "outputs": [
    {
     "data": {
      "text/html": [
       "<iframe\n",
       "    scrolling=\"no\"\n",
       "    width=\"1320px\"\n",
       "    height=\"545px\"\n",
       "    src=\"iframe_figures/figure_14.html\"\n",
       "    frameborder=\"0\"\n",
       "    allowfullscreen\n",
       "></iframe>\n"
      ]
     },
     "metadata": {},
     "output_type": "display_data"
    }
   ],
   "source": [
    "trace1 = go.Bar(\n",
    "    x=df['Country'],\n",
    "    y=df['Gold Medal']\n",
    ")\n",
    "data = [trace1]\n",
    "fig = go.Figure(data = data)\n",
    "fig.update_layout(\n",
    "    title = 'Tokyo 2020 Olympics - Gold Medal By Country',\n",
    "    width=1300,\n",
    "    margin=dict(l=0, r=100, t=50, b=50),\n",
    "    xaxis = dict(\n",
    "        tickfont = dict(size=10),\n",
    "        tickangle=-70),\n",
    "    annotations = [dict(xref='paper',\n",
    "                                        yref='paper',\n",
    "                                        x=0.02, y=1.05,\n",
    "                                        showarrow=False,\n",
    "                                        text ='93 Countries in total')] #using annotation to add subtitle\n",
    ")\n",
    "fig.show()"
   ]
  },
  {
   "cell_type": "markdown",
   "id": "78263a34-b991-4fea-9362-766f10a91f72",
   "metadata": {},
   "source": [
    "#### Let's plot the other half of the Pareto Chart - the cumulative percentage\n",
    "\n",
    "This is a basic Scatter chart. Again, it has interactive feature automatically! Note that in Plotly, go.Scatter can be used both for plotting points (makers) or lines, depending on the value of 'mode'('lines','markers'). For more info, see reference here: https://plotly.com/python/reference/scatter/"
   ]
  },
  {
   "cell_type": "code",
   "execution_count": 15,
   "id": "0e0f5ab2-b01e-496f-a25f-db9c92093ae7",
   "metadata": {},
   "outputs": [
    {
     "data": {
      "text/html": [
       "<iframe\n",
       "    scrolling=\"no\"\n",
       "    width=\"1320px\"\n",
       "    height=\"545px\"\n",
       "    src=\"iframe_figures/figure_15.html\"\n",
       "    frameborder=\"0\"\n",
       "    allowfullscreen\n",
       "></iframe>\n"
      ]
     },
     "metadata": {},
     "output_type": "display_data"
    }
   ],
   "source": [
    "trace2 = go.Scatter(\n",
    "    x=df['Country'],\n",
    "    y=df['cumulative_perc_gold'],\n",
    "    mode = 'lines',\n",
    ")\n",
    "\n",
    "fig = go.Figure(data=trace2)\n",
    "fig.update_traces(marker_color='orange')#change the color of the marker line\n",
    "fig.update_layout(width = 1300, margin=dict(l=0, r=150, t=50, b=50))\n",
    "fig.show()"
   ]
  },
  {
   "cell_type": "markdown",
   "id": "d2b63807-cd7d-4014-9efa-05a043ca7ebd",
   "metadata": {},
   "source": [
    "#### Combining the two together \n",
    "Let's add a second Y-axis to Graph 1, and combine the two basic charts. I also created a layout object to decorate the visualization. "
   ]
  },
  {
   "cell_type": "code",
   "execution_count": 16,
   "id": "08def5a3-62cc-4465-b0e9-060c12576b6d",
   "metadata": {},
   "outputs": [
    {
     "data": {
      "text/html": [
       "<iframe\n",
       "    scrolling=\"no\"\n",
       "    width=\"1520px\"\n",
       "    height=\"620\"\n",
       "    src=\"iframe_figures/figure_16.html\"\n",
       "    frameborder=\"0\"\n",
       "    allowfullscreen\n",
       "></iframe>\n"
      ]
     },
     "metadata": {},
     "output_type": "display_data"
    }
   ],
   "source": [
    "trace1 = go.Bar(\n",
    "    x=df['Country'],\n",
    "    y=df['Gold Medal'],\n",
    "    name='Count of Gold Medal',\n",
    "    marker_color = '#219ebc'\n",
    ")\n",
    "\n",
    "\n",
    "trace2 = go.Scatter(\n",
    "    x=df['Country'],\n",
    "    y=df['cumulative_perc_gold'],\n",
    "    name='Cumulative Percentage',\n",
    "    marker_color='orange',\n",
    "    yaxis='y2',\n",
    "    line=dict(\n",
    "        width=2.4\n",
    "       )\n",
    ")\n",
    "\n",
    "layout = go.Layout(\n",
    "    title = 'Tokyo 2020 Olympics - Gold Medal By Country',\n",
    "    titlefont=dict(\n",
    "        # color='black',\n",
    "        family='Balto, sans-serif',\n",
    "        size=20\n",
    "    ),\n",
    "    width=1300,\n",
    "    height=600,\n",
    "    paper_bgcolor='white',\n",
    "    plot_bgcolor='#e6f6fe',\n",
    "    showlegend=True,\n",
    "       legend=dict(\n",
    "          x=.83,\n",
    "          y=1.4,\n",
    "          font=dict(\n",
    "            family='Balto, sans-serif',\n",
    "            size=12\n",
    "        ),\n",
    "    ),\n",
    "    \n",
    "    annotations = [dict(\n",
    "        xref='paper',\n",
    "        yref='paper',\n",
    "        x=0.03, y=1.3,\n",
    "        showarrow=False,\n",
    "        text ='93 Countries in total')],\n",
    "\n",
    "    xaxis=dict(\n",
    "        tickfont = dict(size=10),\n",
    "        tickangle=-70),\n",
    "    \n",
    "    yaxis=dict(\n",
    "        title='Count',\n",
    "        range=[0,50],\n",
    "        tickfont=dict(\n",
    "            color='#219ebc'\n",
    "        ),\n",
    "        tickvals = [0,10,20,30,40,50],\n",
    "        titlefont=dict(\n",
    "            family='Balto, sans-serif',\n",
    "            size=14,\n",
    "            color='#219ebc')\n",
    "    ),\n",
    "  \n",
    "    yaxis2=dict(\n",
    "        title = 'Cumulative Percentage',\n",
    "        range=[0,101],\n",
    "        tickfont=dict(\n",
    "            color='darkorange'\n",
    "        ),\n",
    "        tickvals = [0,20,40,60,80,100],\n",
    "          titlefont=dict(\n",
    "                family='Balto, sans-serif',\n",
    "                size=14,\n",
    "                color='darkorange'),\n",
    "        overlaying='y',\n",
    "        side='right'\n",
    "    )\n",
    ")\n",
    "\n",
    "data = [trace1,trace2] #Combine the two charts \n",
    "fig = go.Figure(data=data,layout = layout)\n",
    "fig.update_layout(width = 1500,margin=dict(l=0, r=200, t=200, b=50))\n",
    "fig.show()"
   ]
  },
  {
   "cell_type": "markdown",
   "id": "9992a262-e502-4570-8a44-34b82bb1e174",
   "metadata": {},
   "source": [
    "#### Looking pretty good, now let's add the 80% line \n",
    "Thanks to the interactive feature of Plotly, we can simply mouse over to the intercept of the orange line and grey dash line and find out that the 80% cumulative percentage is at Bulgaria. I disabled the hover function on the grey dash line on purpose, so it doesn't confuse us."
   ]
  },
  {
   "cell_type": "code",
   "execution_count": 17,
   "id": "e073b58f-376f-4fa4-8dfe-88b6202a1093",
   "metadata": {},
   "outputs": [
    {
     "data": {
      "text/html": [
       "<iframe\n",
       "    scrolling=\"no\"\n",
       "    width=\"1520px\"\n",
       "    height=\"620\"\n",
       "    src=\"iframe_figures/figure_17.html\"\n",
       "    frameborder=\"0\"\n",
       "    allowfullscreen\n",
       "></iframe>\n"
      ]
     },
     "metadata": {},
     "output_type": "display_data"
    }
   ],
   "source": [
    "trace3 = go.Scatter(\n",
    "    x=df['Country'],\n",
    "    y=df['eighty'],\n",
    "    name='80 Percentage Line',\n",
    "    hoverinfo='skip', #disable the hover feature\n",
    "    yaxis='y2',#specify which yaxis to use\n",
    "    line=dict(\n",
    "        color='grey',\n",
    "        dash = 'dash',\n",
    "        width=2.0\n",
    "       )#adjust color, type and width of the line\n",
    ")\n",
    "data = [trace1, trace2,trace3]#Now combine all three\n",
    "\n",
    "\n",
    "fig = go.Figure(data=data,layout = layout)\n",
    "fig.update_layout(width = 1500,margin=dict(l=0, r=200, t=200, b=50))\n",
    "fig.show()"
   ]
  },
  {
   "cell_type": "markdown",
   "id": "c701f831-217d-4776-99a5-7afce845415b",
   "metadata": {},
   "source": [
    "#### Let's add some final touch\n",
    "First add annotation for rankings"
   ]
  },
  {
   "cell_type": "code",
   "execution_count": 18,
   "id": "767ab2c1-2699-4cec-8074-895e202462a9",
   "metadata": {},
   "outputs": [
    {
     "data": {
      "text/html": [
       "<iframe\n",
       "    scrolling=\"no\"\n",
       "    width=\"1520px\"\n",
       "    height=\"620\"\n",
       "    src=\"iframe_figures/figure_18.html\"\n",
       "    frameborder=\"0\"\n",
       "    allowfullscreen\n",
       "></iframe>\n"
      ]
     },
     "metadata": {},
     "output_type": "display_data"
    }
   ],
   "source": [
    "rank = [i for i in range(1,100)]\n",
    " \n",
    "fig.update_traces(\n",
    "    text = rank,\n",
    "    textposition='inside',\n",
    "    textfont = dict(color='white',size = 9),\n",
    "    selector=dict(type=\"bar\")\n",
    ")"
   ]
  },
  {
   "cell_type": "markdown",
   "id": "906f8b9d-5b6f-4ed6-a527-8e5a99b8a8e2",
   "metadata": {},
   "source": [
    "Secondly, let's add a vertical line so we can easily identify the cutoff for 80% of cumulative percentage. I also added annotation to mark the intercept using text."
   ]
  },
  {
   "cell_type": "markdown",
   "id": "a99a4c5f-6d7b-4f7b-9418-2f637cd84fd2",
   "metadata": {},
   "source": [
    "### Final Visualization"
   ]
  },
  {
   "cell_type": "code",
   "execution_count": 19,
   "id": "cc3e4847-b662-4888-9f38-c19e82a037b6",
   "metadata": {},
   "outputs": [
    {
     "data": {
      "text/html": [
       "<iframe\n",
       "    scrolling=\"no\"\n",
       "    width=\"1520px\"\n",
       "    height=\"620\"\n",
       "    src=\"iframe_figures/figure_19.html\"\n",
       "    frameborder=\"0\"\n",
       "    allowfullscreen\n",
       "></iframe>\n"
      ]
     },
     "metadata": {},
     "output_type": "display_data"
    }
   ],
   "source": [
    "fig.add_shape(type=\"line\",\n",
    "    xref=\"x\", yref=\"y\",\n",
    "    x0='Bulgaria', y0=0, x1='Bulgaria', y1=50,\n",
    "    line=dict(\n",
    "        color=\"LightSeaGreen\",\n",
    "        dash = 'dash',\n",
    "        width=1))\n",
    "\n",
    "fig.add_annotation(dict(\n",
    "    xref=\"x\", \n",
    "    yref=\"y\",\n",
    "    x= 'Bulgaria', \n",
    "    y= 38,\n",
    "    showarrow=False,\n",
    "    text ='Bulgaria, Rank 24th among 93 countries',))\n",
    "\n",
    "fig.show()\n"
   ]
  },
  {
   "cell_type": "markdown",
   "id": "cbe07252-ad5e-4a09-b4d3-1b1e2ce340e1",
   "metadata": {},
   "source": [
    "Now if you mouse over to Bulgaria in the above chart, you can see that Bulgaria is ranked at 24th. Our dataset has 93 countries. So 24/93 countries comprises 80% of the total Gold medal counts. It's not exactly 20/80, but very close! So the Pareto chart is a great visualization technique that can help us determine whether our dataset follows the 80/20 rule, and identify where the cutoff is. \n",
    "\n",
    "In a nutshell, Plotly is very helpful when it comes to drawing a Pareto Chart due to its advanced and automatic interactive features, easiness to code and clear documentation."
   ]
  },
  {
   "cell_type": "markdown",
   "id": "9e3f28e7-d3ef-4d12-8e26-15a38cd0f302",
   "metadata": {},
   "source": [
    "## Other Use Cases: A bit more exploration of the dataset and Plotly"
   ]
  },
  {
   "cell_type": "markdown",
   "id": "e09c68cb-b789-471d-8218-91512f9da50b",
   "metadata": {},
   "source": [
    "Same as Matplotlib, Plotly also offers the functionality to create subplots. Using the same dataset, let's create subplots to see Gold, Silver and Bronze Medal counts altogether. Firstly let's create dataframes for silver and bronze medal charts respectively. Note that we need to sort each dataframe seperately, by the medal count column so we can calculate cumulative percentages correctly: \n",
    "\n",
    "(There are countries with the same silver/bronze medal count, so we sort by medal count column as well as \"Rank By Total\" column)"
   ]
  },
  {
   "cell_type": "code",
   "execution_count": 10,
   "id": "4a5f1a61-16d9-4cc4-ba8d-4b748b1f5b77",
   "metadata": {},
   "outputs": [
    {
     "data": {
      "text/html": [
       "<div>\n",
       "<style scoped>\n",
       "    .dataframe tbody tr th:only-of-type {\n",
       "        vertical-align: middle;\n",
       "    }\n",
       "\n",
       "    .dataframe tbody tr th {\n",
       "        vertical-align: top;\n",
       "    }\n",
       "\n",
       "    .dataframe thead th {\n",
       "        text-align: right;\n",
       "    }\n",
       "</style>\n",
       "<table border=\"1\" class=\"dataframe\">\n",
       "  <thead>\n",
       "    <tr style=\"text-align: right;\">\n",
       "      <th></th>\n",
       "      <th>Country</th>\n",
       "      <th>Gold Medal</th>\n",
       "      <th>Silver Medal</th>\n",
       "      <th>Bronze Medal</th>\n",
       "      <th>Total</th>\n",
       "      <th>Rank By Total</th>\n",
       "      <th>cumulative_perc_gold</th>\n",
       "      <th>eighty</th>\n",
       "      <th>cumulative_perc_bronze</th>\n",
       "    </tr>\n",
       "  </thead>\n",
       "  <tbody>\n",
       "    <tr>\n",
       "      <th>0</th>\n",
       "      <td>United States of America</td>\n",
       "      <td>39</td>\n",
       "      <td>41</td>\n",
       "      <td>33</td>\n",
       "      <td>113</td>\n",
       "      <td>1</td>\n",
       "      <td>11.47</td>\n",
       "      <td>80</td>\n",
       "      <td>8.21</td>\n",
       "    </tr>\n",
       "    <tr>\n",
       "      <th>4</th>\n",
       "      <td>ROC</td>\n",
       "      <td>20</td>\n",
       "      <td>28</td>\n",
       "      <td>23</td>\n",
       "      <td>71</td>\n",
       "      <td>3</td>\n",
       "      <td>42.94</td>\n",
       "      <td>80</td>\n",
       "      <td>13.93</td>\n",
       "    </tr>\n",
       "    <tr>\n",
       "      <th>5</th>\n",
       "      <td>Australia</td>\n",
       "      <td>17</td>\n",
       "      <td>7</td>\n",
       "      <td>22</td>\n",
       "      <td>46</td>\n",
       "      <td>6</td>\n",
       "      <td>47.94</td>\n",
       "      <td>80</td>\n",
       "      <td>19.40</td>\n",
       "    </tr>\n",
       "    <tr>\n",
       "      <th>3</th>\n",
       "      <td>Great Britain</td>\n",
       "      <td>22</td>\n",
       "      <td>21</td>\n",
       "      <td>22</td>\n",
       "      <td>65</td>\n",
       "      <td>4</td>\n",
       "      <td>37.06</td>\n",
       "      <td>80</td>\n",
       "      <td>24.88</td>\n",
       "    </tr>\n",
       "    <tr>\n",
       "      <th>9</th>\n",
       "      <td>Italy</td>\n",
       "      <td>10</td>\n",
       "      <td>10</td>\n",
       "      <td>20</td>\n",
       "      <td>40</td>\n",
       "      <td>7</td>\n",
       "      <td>59.71</td>\n",
       "      <td>80</td>\n",
       "      <td>29.85</td>\n",
       "    </tr>\n",
       "    <tr>\n",
       "      <th>...</th>\n",
       "      <td>...</td>\n",
       "      <td>...</td>\n",
       "      <td>...</td>\n",
       "      <td>...</td>\n",
       "      <td>...</td>\n",
       "      <td>...</td>\n",
       "      <td>...</td>\n",
       "      <td>...</td>\n",
       "      <td>...</td>\n",
       "    </tr>\n",
       "    <tr>\n",
       "      <th>37</th>\n",
       "      <td>Ecuador</td>\n",
       "      <td>2</td>\n",
       "      <td>1</td>\n",
       "      <td>0</td>\n",
       "      <td>3</td>\n",
       "      <td>60</td>\n",
       "      <td>88.82</td>\n",
       "      <td>80</td>\n",
       "      <td>100.00</td>\n",
       "    </tr>\n",
       "    <tr>\n",
       "      <th>51</th>\n",
       "      <td>South Africa</td>\n",
       "      <td>1</td>\n",
       "      <td>2</td>\n",
       "      <td>0</td>\n",
       "      <td>3</td>\n",
       "      <td>60</td>\n",
       "      <td>96.18</td>\n",
       "      <td>80</td>\n",
       "      <td>100.00</td>\n",
       "    </tr>\n",
       "    <tr>\n",
       "      <th>45</th>\n",
       "      <td>Romania</td>\n",
       "      <td>1</td>\n",
       "      <td>3</td>\n",
       "      <td>0</td>\n",
       "      <td>4</td>\n",
       "      <td>47</td>\n",
       "      <td>96.47</td>\n",
       "      <td>80</td>\n",
       "      <td>100.00</td>\n",
       "    </tr>\n",
       "    <tr>\n",
       "      <th>46</th>\n",
       "      <td>Venezuela</td>\n",
       "      <td>1</td>\n",
       "      <td>3</td>\n",
       "      <td>0</td>\n",
       "      <td>4</td>\n",
       "      <td>47</td>\n",
       "      <td>96.76</td>\n",
       "      <td>80</td>\n",
       "      <td>100.00</td>\n",
       "    </tr>\n",
       "    <tr>\n",
       "      <th>22</th>\n",
       "      <td>Sweden</td>\n",
       "      <td>3</td>\n",
       "      <td>6</td>\n",
       "      <td>0</td>\n",
       "      <td>9</td>\n",
       "      <td>26</td>\n",
       "      <td>83.53</td>\n",
       "      <td>80</td>\n",
       "      <td>100.00</td>\n",
       "    </tr>\n",
       "  </tbody>\n",
       "</table>\n",
       "<p>93 rows × 9 columns</p>\n",
       "</div>"
      ],
      "text/plain": [
       "                     Country  Gold Medal  Silver Medal  Bronze Medal  Total  \\\n",
       "0   United States of America          39            41            33    113   \n",
       "4                        ROC          20            28            23     71   \n",
       "5                  Australia          17             7            22     46   \n",
       "3              Great Britain          22            21            22     65   \n",
       "9                      Italy          10            10            20     40   \n",
       "..                       ...         ...           ...           ...    ...   \n",
       "37                   Ecuador           2             1             0      3   \n",
       "51              South Africa           1             2             0      3   \n",
       "45                   Romania           1             3             0      4   \n",
       "46                 Venezuela           1             3             0      4   \n",
       "22                    Sweden           3             6             0      9   \n",
       "\n",
       "    Rank By Total  cumulative_perc_gold  eighty  cumulative_perc_bronze  \n",
       "0               1                 11.47      80                    8.21  \n",
       "4               3                 42.94      80                   13.93  \n",
       "5               6                 47.94      80                   19.40  \n",
       "3               4                 37.06      80                   24.88  \n",
       "9               7                 59.71      80                   29.85  \n",
       "..            ...                   ...     ...                     ...  \n",
       "37             60                 88.82      80                  100.00  \n",
       "51             60                 96.18      80                  100.00  \n",
       "45             47                 96.47      80                  100.00  \n",
       "46             47                 96.76      80                  100.00  \n",
       "22             26                 83.53      80                  100.00  \n",
       "\n",
       "[93 rows x 9 columns]"
      ]
     },
     "execution_count": 10,
     "metadata": {},
     "output_type": "execute_result"
    }
   ],
   "source": [
    "df2 = df \n",
    "df3 = df \n",
    "df2 = df2.sort_values(by=['Silver Medal','Rank By Total'], ascending=[False, False])\n",
    "df3 = df3.sort_values(by=['Bronze Medal','Rank By Total'], ascending=[False, False])\n",
    "df2['cumulative_perc_silver'] = round(df2['Silver Medal'].cumsum()/df2['Silver Medal'].sum()*100,2)\n",
    "df3['cumulative_perc_bronze'] = round(df3['Bronze Medal'].cumsum()/df3['Bronze Medal'].sum()*100,2)\n",
    "\n",
    "df3"
   ]
  },
  {
   "cell_type": "code",
   "execution_count": 11,
   "id": "0049601b-d3b5-4090-b93f-4244be9ea53e",
   "metadata": {},
   "outputs": [
    {
     "data": {
      "text/html": [
       "<iframe\n",
       "    scrolling=\"no\"\n",
       "    width=\"1520px\"\n",
       "    height=\"1020\"\n",
       "    src=\"iframe_figures/figure_11.html\"\n",
       "    frameborder=\"0\"\n",
       "    allowfullscreen\n",
       "></iframe>\n"
      ]
     },
     "metadata": {},
     "output_type": "display_data"
    }
   ],
   "source": [
    "from plotly.subplots import make_subplots\n",
    "\n",
    "fig2 = make_subplots(rows=3, cols=1,subplot_titles=('Gold Medal',  'Silver Medal','Bronze Medal'))\n",
    "\n",
    "fig2.append_trace(go.Bar(\n",
    "    x=df['Country'],\n",
    "    y=df['Gold Medal'],\n",
    "    name='Count of Gold Medal',\n",
    "    marker_color = 'gold'\n",
    "), row=1, col=1)\n",
    "\n",
    "fig2.append_trace(go.Scatter(\n",
    "    x=df['Country'],\n",
    "    y=df['cumulative_perc_gold'],\n",
    "    name='Cumulative Percentage',\n",
    "    marker_color='orange',\n",
    "    line=dict(\n",
    "        width=2.4\n",
    "       )\n",
    "), row=1, col=1)\n",
    "\n",
    "\n",
    "fig2.append_trace(go.Bar(\n",
    "    x=df2['Country'],\n",
    "    y=df2['Silver Medal'],\n",
    "    name='Count of Silver Medal',\n",
    "    marker_color = 'silver'\n",
    "), row=2, col=1)\n",
    "\n",
    "fig2.append_trace(go.Scatter(\n",
    "    x=df2['Country'],\n",
    "    y=df2['cumulative_perc_silver'],\n",
    "    name='Cumulative Percentage',\n",
    "    marker_color='lightblue',\n",
    "    line=dict(\n",
    "        width=2.4\n",
    "       )\n",
    "), row=2, col=1)\n",
    "\n",
    "\n",
    "fig2.append_trace(go.Bar(\n",
    "    x=df3['Country'],\n",
    "    y=df3['Bronze Medal'],\n",
    "    name='Count of Bronze Medal',\n",
    "    marker_color = '#C9B037'\n",
    "), row=3, col=1)\n",
    "\n",
    "\n",
    "\n",
    "fig2.append_trace(go.Scatter(\n",
    "    x=df3['Country'],\n",
    "    y=df3['cumulative_perc_bronze'],\n",
    "    name='Cumulative Percentage',\n",
    "    marker_color='#B4B4B4',\n",
    "    line=dict(\n",
    "        width=2.4\n",
    "       )\n",
    "), row=3, col=1)\n",
    "\n",
    "rank = [i for i in range(1,100)]\n",
    " \n",
    "fig2.update_traces(\n",
    "    text = rank,\n",
    "    textposition='inside',\n",
    "    textfont = dict(color='white',size = 9),\n",
    "    selector=dict(type=\"bar\")\n",
    ")\n",
    "\n",
    "fig2.update_xaxes(\n",
    "    tickfont_size= 8,\n",
    "    tickangle=-70)\n",
    "\n",
    "fig2.update_yaxes(\n",
    "    range=[0,101],\n",
    "    tickvals = [0,20,40,60,80,100],\n",
    "    title = 'Count of Medals'\n",
    "    )\n",
    "fig2.update_layout(\n",
    "    height=1000, \n",
    "    width=1400, \n",
    "    margin=dict(l=150, r=150, t=50, b=50),\n",
    "    title_text=\"Tokyo 2020 Olympics Medal Count\",\n",
    "    showlegend=True,\n",
    "    legend=dict(\n",
    "          x=.83,\n",
    "          y=1.2,\n",
    "          font=dict(\n",
    "            family='Balto, sans-serif',\n",
    "            size=12\n",
    "        ),\n",
    "    ),\n",
    "                 )\n",
    "fig2.update_layout(width = 1500,margin=dict(l=0, r=200, t=200, b=50))\n",
    "\n",
    "fig2.show()"
   ]
  },
  {
   "cell_type": "markdown",
   "id": "a0d7ec9c-12e0-4b24-9d18-c4c6a4e4380e",
   "metadata": {},
   "source": [
    "The above chart clearly tells us that all three subplots follows the Pareto principle. But the trend is more significant in Gold Medal and Silver Medal charts. I didn't draw the 80% line and the vertical line in this chart, but thanks to the interactive functionality of Plotly, I can still get the same info by hovering over the chart and doing a little big calculation. \n",
    "\n",
    "For the silver medal chart: Republic of Korea, ranked 26th, is the cutoff for cumulative 80%. So 26 out of 93 countries won 80% of the silver medals, proving that it approximately follows the 80-20 principle. \n",
    "\n",
    "For the Bronze medal chart: Azerbaijan, ranked 29th, is the cutoff for cumulative 80%. 29 out of 93 countries won 80% of the Bronze medals. It is more close to a 70-30 relationship, still a good pattern of Pareto principle.\n",
    "\n",
    "\n"
   ]
  },
  {
   "cell_type": "markdown",
   "id": "33207e19-984b-4caf-af71-d02c9869c775",
   "metadata": {},
   "source": [
    "## Summary"
   ]
  },
  {
   "cell_type": "markdown",
   "id": "734843ea-8eda-4da1-904e-18f2dd1d6a02",
   "metadata": {},
   "source": [
    "In summary, Pareto principle is everywhere. I chose the Olympic dataset according to my common sense, so it's kind of like guessing. But it indeed follows the Pareto principle! It's very interesting to see and prove it.  \n",
    "\n",
    "In addition, Plotly does a great job in helping us do interactive visualization, with limited lines of code. The visualization made from Plotly are beautiful and professional enough for business presentations and publications. It makes data exploration much more easier. Thus it's a great tool that we can use in exploratory data analysis. We may need to do more analysis to further investigate the dataset depending on the needs, but what I've just walked through is a great start! \n",
    "\n",
    "Hope you enjoyed this tutorial!"
   ]
  },
  {
   "cell_type": "markdown",
   "id": "c0312143-d542-4043-aed6-d1842f0fb108",
   "metadata": {},
   "source": [
    "## References:\n",
    "\n",
    "\n",
    "Plotly JSON chart schema. (2018). Plotly. https://plotly.com/chart-studio-help/json-chart-schema/\n",
    "\n",
    "\n",
    "Wikipedia contributors. (2022, February 25). Pareto principle. Wikipedia. https://en.wikipedia.org/wiki/Pareto_principle\n",
    "\n",
    "\n",
    "Gulbis, J. ā. (2016). The 80/20 Rule – The Law of Unfair Advantage. eazyBI. https://eazybi.com/blog/the-80-20-rule\n",
    "\n",
    "\n",
    "Wilhite, T. (2021, November 20). The Disadvantages of Pareto Analysis. Bizfluent. https://bizfluent.com/list-6831238-disadvantages-pareto-analysis.html\n",
    "\n",
    "\n",
    "GeeksforGeeks. (2020, September 15). Advantages and Disadvantages of Pareto Chart. https://www.geeksforgeeks.org/advantages-and-disadvantages-of-pareto-chart/\n",
    "\n",
    "\n",
    "Araujo, I. (2022, January 6). Matplotlib vs. Plotly Express: Which One is the Best Library for Data Visualization? Medium. https://towardsdatascience.com/matplotlib-vs-plotly-express-which-one-is-the-best-library-for-data-visualization-7a96dbe3ff09\n",
    "\n",
    "\n",
    "ALAN, B. (2021, August 9). Tokyo 2020 Olympics Medals. Kaggle. https://www.kaggle.com/datasets/berkayalan/2021-olympics-medals-in-tokyo\n",
    "\n",
    "\n",
    "Diagram Pareto | bar chart made by Timopyr | plotly. (2018). Chart-Studio. https://chart-studio.plotly.com/%7Etimopyr/11/diagram-pareto/#/code\n"
   ]
  },
  {
   "cell_type": "markdown",
   "id": "b4fcb307",
   "metadata": {},
   "source": []
  }
 ],
 "metadata": {
  "kernelspec": {
   "display_name": "Python 3 (ipykernel)",
   "language": "python",
   "name": "python3"
  },
  "language_info": {
   "codemirror_mode": {
    "name": "ipython",
    "version": 3
   },
   "file_extension": ".py",
   "mimetype": "text/x-python",
   "name": "python",
   "nbconvert_exporter": "python",
   "pygments_lexer": "ipython3",
   "version": "3.8.10"
  }
 },
 "nbformat": 4,
 "nbformat_minor": 5
}
